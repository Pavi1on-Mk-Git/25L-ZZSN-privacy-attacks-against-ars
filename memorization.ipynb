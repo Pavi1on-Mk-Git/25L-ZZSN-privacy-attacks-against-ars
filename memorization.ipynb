{
 "cells": [
  {
   "cell_type": "code",
   "execution_count": 57,
   "id": "fce306f4",
   "metadata": {},
   "outputs": [],
   "source": [
    "import nltk\n",
    "from nltk.corpus import wordnet, stopwords\n",
    "from nltk.tokenize import word_tokenize\n",
    "from nltk.stem import WordNetLemmatizer\n",
    "from nltk import pos_tag\n",
    "import string\n",
    "\n",
    "# copypasted this here because imports don't seem to work\n",
    "def preprocess_caption(caption: str) -> str:\n",
    "    lemmatizer = WordNetLemmatizer()\n",
    "    stop_words = set(stopwords.words(\"english\"))\n",
    "\n",
    "    tokens = word_tokenize(caption)\n",
    "    tagged = pos_tag(tokens)\n",
    "\n",
    "    tagged = [\n",
    "        (word, tag)\n",
    "        for word, tag in tagged\n",
    "        if not word.lower() in stop_words and word not in string.punctuation and not word.isdigit()\n",
    "    ]\n",
    "\n",
    "    lemmatizer = WordNetLemmatizer()\n",
    "    tokens = [lemmatizer.lemmatize(word, _get_wordnet_sentence_position(tag)) for word, tag in tagged]\n",
    "\n",
    "    return \" \".join(tokens)\n",
    "\n",
    "\n",
    "def _get_wordnet_sentence_position(treebank_tag):\n",
    "    if treebank_tag.startswith(\"J\"):\n",
    "        return wordnet.ADJ\n",
    "    elif treebank_tag.startswith(\"V\"):\n",
    "        return wordnet.VERB\n",
    "    elif treebank_tag.startswith(\"N\"):\n",
    "        return wordnet.NOUN\n",
    "    elif treebank_tag.startswith(\"R\"):\n",
    "        return wordnet.ADV\n",
    "    else:\n",
    "        return wordnet.NOUN"
   ]
  },
  {
   "cell_type": "code",
   "execution_count": 58,
   "id": "f9fa374f",
   "metadata": {},
   "outputs": [],
   "source": [
    "import pandas as pd\n",
    "import numpy as np\n",
    "from pathlib import Path\n",
    "from sklearn.metrics import roc_auc_score\n",
    "import os"
   ]
  },
  {
   "cell_type": "code",
   "execution_count": 59,
   "id": "34c40136",
   "metadata": {},
   "outputs": [],
   "source": [
    "members = pd.read_csv(\"memorization/audiogen_medium_memorized_audiogen_medium_train.csv\")\n",
    "train_data = pd.read_csv(\"data/train.csv\")\n",
    "train_data[\"caption\"] = train_data[\"caption\"].map(lambda s: preprocess_caption(s))"
   ]
  },
  {
   "cell_type": "code",
   "execution_count": 60,
   "id": "904952e9",
   "metadata": {},
   "outputs": [],
   "source": [
    "Path(\"to_zip\").mkdir(exist_ok=True)"
   ]
  },
  {
   "cell_type": "code",
   "execution_count": 61,
   "id": "16244f2a",
   "metadata": {},
   "outputs": [
    {
     "data": {
      "text/html": [
       "<div>\n",
       "<style scoped>\n",
       "    .dataframe tbody tr th:only-of-type {\n",
       "        vertical-align: middle;\n",
       "    }\n",
       "\n",
       "    .dataframe tbody tr th {\n",
       "        vertical-align: top;\n",
       "    }\n",
       "\n",
       "    .dataframe thead th {\n",
       "        text-align: right;\n",
       "    }\n",
       "</style>\n",
       "<table border=\"1\" class=\"dataframe\">\n",
       "  <thead>\n",
       "    <tr style=\"text-align: right;\">\n",
       "      <th></th>\n",
       "      <th>sample_idx</th>\n",
       "      <th>score</th>\n",
       "      <th>caption</th>\n",
       "      <th>token_eq_0</th>\n",
       "      <th>token_eq_1</th>\n",
       "      <th>token_eq_5</th>\n",
       "      <th>token_eq_14</th>\n",
       "      <th>token_eq_30</th>\n",
       "      <th>cosine_0</th>\n",
       "      <th>cosine_1</th>\n",
       "      <th>cosine_5</th>\n",
       "      <th>cosine_14</th>\n",
       "      <th>cosine_30</th>\n",
       "    </tr>\n",
       "  </thead>\n",
       "  <tbody>\n",
       "    <tr>\n",
       "      <th>0</th>\n",
       "      <td>624</td>\n",
       "      <td>0.0425</td>\n",
       "      <td>Wind blow tunnel</td>\n",
       "      <td>0.014</td>\n",
       "      <td>0.030</td>\n",
       "      <td>0.056</td>\n",
       "      <td>0.118</td>\n",
       "      <td>0.258</td>\n",
       "      <td>0.859782</td>\n",
       "      <td>0.948705</td>\n",
       "      <td>0.935466</td>\n",
       "      <td>0.948903</td>\n",
       "      <td>0.978211</td>\n",
       "    </tr>\n",
       "    <tr>\n",
       "      <th>1</th>\n",
       "      <td>2916</td>\n",
       "      <td>0.1100</td>\n",
       "      <td>Low sound engine idling</td>\n",
       "      <td>0.010</td>\n",
       "      <td>0.066</td>\n",
       "      <td>0.080</td>\n",
       "      <td>0.164</td>\n",
       "      <td>0.310</td>\n",
       "      <td>0.811843</td>\n",
       "      <td>0.919321</td>\n",
       "      <td>0.918198</td>\n",
       "      <td>0.955492</td>\n",
       "      <td>0.974826</td>\n",
       "    </tr>\n",
       "    <tr>\n",
       "      <th>2</th>\n",
       "      <td>884</td>\n",
       "      <td>0.0465</td>\n",
       "      <td>Airplane engine sound distance</td>\n",
       "      <td>0.016</td>\n",
       "      <td>0.028</td>\n",
       "      <td>0.052</td>\n",
       "      <td>0.132</td>\n",
       "      <td>0.266</td>\n",
       "      <td>0.924421</td>\n",
       "      <td>0.868767</td>\n",
       "      <td>0.882967</td>\n",
       "      <td>0.943403</td>\n",
       "      <td>0.973576</td>\n",
       "    </tr>\n",
       "  </tbody>\n",
       "</table>\n",
       "</div>"
      ],
      "text/plain": [
       "   sample_idx   score                         caption  token_eq_0  token_eq_1  \\\n",
       "0         624  0.0425                Wind blow tunnel       0.014       0.030   \n",
       "1        2916  0.1100         Low sound engine idling       0.010       0.066   \n",
       "2         884  0.0465  Airplane engine sound distance       0.016       0.028   \n",
       "\n",
       "   token_eq_5  token_eq_14  token_eq_30  cosine_0  cosine_1  cosine_5  \\\n",
       "0       0.056        0.118        0.258  0.859782  0.948705  0.935466   \n",
       "1       0.080        0.164        0.310  0.811843  0.919321  0.918198   \n",
       "2       0.052        0.132        0.266  0.924421  0.868767  0.882967   \n",
       "\n",
       "   cosine_14  cosine_30  \n",
       "0   0.948903   0.978211  \n",
       "1   0.955492   0.974826  \n",
       "2   0.943403   0.973576  "
      ]
     },
     "execution_count": 61,
     "metadata": {},
     "output_type": "execute_result"
    }
   ],
   "source": [
    "members[:3]"
   ]
  },
  {
   "cell_type": "code",
   "execution_count": 62,
   "id": "1ce0a881",
   "metadata": {},
   "outputs": [],
   "source": [
    "def move_files_with_captions(data, subdir: str):\n",
    "    sample_indices = data[\"sample_idx\"]\n",
    "    captions = data[\"caption\"]\n",
    "\n",
    "    Path(f\"to_zip/{subdir}\").mkdir(exist_ok=True)\n",
    "    for file_id, caption in zip(sample_indices, captions):\n",
    "        os.system(f\"scp plgjproboszcz@athena.cyfronet.pl:/net/tscratch/people/plgjproboszcz/zzsn/generated_samples_train/{file_id}_target.wav ./to_zip/{subdir}/\")\n",
    "        os.system(f\"scp plgjproboszcz@athena.cyfronet.pl:/net/tscratch/people/plgjproboszcz/zzsn/generated_samples_train/{file_id}_30.wav ./to_zip/{subdir}/\")\n",
    "\n",
    "        caption = caption.lower().replace(\" \", \"_\")\n",
    "\n",
    "        os.system(f\"mv ./to_zip/{subdir}/{file_id}_target.wav ./to_zip/{subdir}/{caption}_true.wav\")\n",
    "        os.system(f\"mv ./to_zip/{subdir}/{file_id}_30.wav ./to_zip/{subdir}/{caption}_pred.wav\")\n",
    "\n",
    "move_files_with_captions(members[:3], \"vggish\")"
   ]
  },
  {
   "cell_type": "code",
   "execution_count": 63,
   "id": "77e1b637",
   "metadata": {},
   "outputs": [],
   "source": [
    "sorted_members = members.sort_values(by=\"score\", ascending=False)\n",
    "move_files_with_captions(sorted_members.iloc[:3], \"score\")"
   ]
  },
  {
   "cell_type": "code",
   "execution_count": 64,
   "id": "7b3e31dc",
   "metadata": {},
   "outputs": [],
   "source": [
    "sorted_members = members.sort_values(by=\"token_eq_30\", ascending=False)\n",
    "move_files_with_captions(sorted_members.iloc[:3], \"token_equality\")"
   ]
  }
 ],
 "metadata": {
  "kernelspec": {
   "display_name": ".venv",
   "language": "python",
   "name": "python3"
  },
  "language_info": {
   "codemirror_mode": {
    "name": "ipython",
    "version": 3
   },
   "file_extension": ".py",
   "mimetype": "text/x-python",
   "name": "python",
   "nbconvert_exporter": "python",
   "pygments_lexer": "ipython3",
   "version": "3.12.3"
  }
 },
 "nbformat": 4,
 "nbformat_minor": 5
}
